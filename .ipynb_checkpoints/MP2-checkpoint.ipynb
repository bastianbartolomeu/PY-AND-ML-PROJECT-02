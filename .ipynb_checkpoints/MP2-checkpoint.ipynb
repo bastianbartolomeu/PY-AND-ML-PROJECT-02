{
 "cells": [
  {
   "cell_type": "markdown",
   "id": "3877f2ba",
   "metadata": {},
   "source": [
    "# <font color='GREEN'>  MINIPROYECTO 2 <FONT>"
   ]
  },
  {
   "cell_type": "markdown",
   "id": "20fdf3e5",
   "metadata": {},
   "source": [
    "## <font color='Orange'>  Part 1: Regresión lineal <FONT>"
   ]
  },
  {
   "cell_type": "code",
   "execution_count": 3,
   "id": "9c1a8125",
   "metadata": {},
   "outputs": [],
   "source": [
    "import numpy as np\n",
    "import pandas as pd\n",
    "import matplotlib.pyplot as plt\n",
    "from sklearn.linear_model import LinearRegression, Lasso, Ridge\n",
    "from sklearn.preprocessing import PolynomialFeatures\n",
    "from sklearn.metrics import mean_squared_error,  r2_score\n",
    "import seaborn as sns\n",
    "import random\n",
    "from PIL import Image\n",
    "%matplotlib inline"
   ]
  },
  {
   "cell_type": "code",
   "execution_count": 2,
   "id": "d0cf6c6a",
   "metadata": {},
   "outputs": [],
   "source": [
    "# LISTA DE 100 NUMEROS RANDOM \n",
    "def variables(mi,ma,cant):\n",
    "    return [random.uniform(mi,ma) for x in range(0,cant)]"
   ]
  },
  {
   "cell_type": "code",
   "execution_count": 3,
   "id": "b483643c",
   "metadata": {
    "scrolled": true
   },
   "outputs": [],
   "source": [
    "#VARIABLE INDEPENDIENTE CON 3 DECIMALES \n",
    "X = np.array(variables (0,3,100)).round(3)"
   ]
  },
  {
   "cell_type": "code",
   "execution_count": 4,
   "id": "1454c540",
   "metadata": {},
   "outputs": [
    {
     "data": {
      "text/plain": [
       "5.385"
      ]
     },
     "execution_count": 4,
     "metadata": {},
     "output_type": "execute_result"
    }
   ],
   "source": [
    "# MAGNITUD DEL VECTOR (-2,5)\n",
    "v= np.array([-2,5])\n",
    "U = round(np.linalg.norm(v),3)  \n",
    "U"
   ]
  },
  {
   "cell_type": "code",
   "execution_count": 5,
   "id": "6e22708e",
   "metadata": {},
   "outputs": [],
   "source": [
    "def f(x): #y = 2X + 5 + u(-2,5)\n",
    "    y = (2*x+ 5+ U)\n",
    "    return y"
   ]
  },
  {
   "cell_type": "code",
   "execution_count": 6,
   "id": "d8cfa2e7",
   "metadata": {},
   "outputs": [],
   "source": [
    "#VARIABLE DEPENDIENTE \n",
    "Y = f(X)"
   ]
  },
  {
   "cell_type": "code",
   "execution_count": 7,
   "id": "bc9f1deb",
   "metadata": {},
   "outputs": [
    {
     "data": {
      "image/png": "[encoded data removed]",
      "text/plain": [
       "<Figure size 864x288 with 1 Axes>"
      ]
     },
     "metadata": {
      "needs_background": "light"
     },
     "output_type": "display_data"
    }
   ],
   "source": [
    "# GRAFICO DE DISPERCION\n",
    "\n",
    "fig, ax= plt.subplots(figsize =(12,4))\n",
    "ax.scatter(X,Y, label = 'DATOS', color = 'orange')\n",
    "plt.xlabel(' Datos x', fontname = 'Tw Cen MT', color = 'red', size =20)\n",
    "plt.ylabel(' Datos y', fontname = 'Tw Cen MT', color = 'blue',size =20)\n",
    "plt.title('Grafico de disperción', fontname = 'Tw Cen MT', size =24)\n",
    "plt.grid()\n",
    "plt.legend(loc ='upper left')\n",
    "plt.show()"
   ]
  },
  {
   "cell_type": "code",
   "execution_count": 8,
   "id": "25d8faa1",
   "metadata": {},
   "outputs": [],
   "source": [
    "#REGRESION LINEAL \n",
    "regresion_lineal = LinearRegression()"
   ]
  },
  {
   "cell_type": "code",
   "execution_count": 9,
   "id": "af94f580",
   "metadata": {},
   "outputs": [],
   "source": [
    "# GRAFICO DE REGRECION LINEAL"
   ]
  },
  {
   "cell_type": "code",
   "execution_count": 10,
   "id": "03502d65",
   "metadata": {},
   "outputs": [
    {
     "data": {
      "text/html": [
       "<style>#sk-container-id-1 {color: black;background-color: white;}#sk-container-id-1 pre{padding: 0;}#sk-container-id-1 div.sk-toggleable {background-color: white;}#sk-container-id-1 label.sk-toggleable__label {cursor: pointer;display: block;width: 100%;margin-bottom: 0;padding: 0.3em;box-sizing: border-box;text-align: center;}#sk-container-id-1 label.sk-toggleable__label-arrow:before {content: \"▸\";float: left;margin-right: 0.25em;color: #696969;}#sk-container-id-1 label.sk-toggleable__label-arrow:hover:before {color: black;}#sk-container-id-1 div.sk-estimator:hover label.sk-toggleable__label-arrow:before {color: black;}#sk-container-id-1 div.sk-toggleable__content {max-height: 0;max-width: 0;overflow: hidden;text-align: left;background-color: #f0f8ff;}#sk-container-id-1 div.sk-toggleable__content pre {margin: 0.2em;color: black;border-radius: 0.25em;background-color: #f0f8ff;}#sk-container-id-1 input.sk-toggleable__control:checked~div.sk-toggleable__content {max-height: 200px;max-width: 100%;overflow: auto;}#sk-container-id-1 input.sk-toggleable__control:checked~label.sk-toggleable__label-arrow:before {content: \"▾\";}#sk-container-id-1 div.sk-estimator input.sk-toggleable__control:checked~label.sk-toggleable__label {background-color: #d4ebff;}#sk-container-id-1 div.sk-label input.sk-toggleable__control:checked~label.sk-toggleable__label {background-color: #d4ebff;}#sk-container-id-1 input.sk-hidden--visually {border: 0;clip: rect(1px 1px 1px 1px);clip: rect(1px, 1px, 1px, 1px);height: 1px;margin: -1px;overflow: hidden;padding: 0;position: absolute;width: 1px;}#sk-container-id-1 div.sk-estimator {font-family: monospace;background-color: #f0f8ff;border: 1px dotted black;border-radius: 0.25em;box-sizing: border-box;margin-bottom: 0.5em;}#sk-container-id-1 div.sk-estimator:hover {background-color: #d4ebff;}#sk-container-id-1 div.sk-parallel-item::after {content: \"\";width: 100%;border-bottom: 1px solid gray;flex-grow: 1;}#sk-container-id-1 div.sk-label:hover label.sk-toggleable__label {background-color: #d4ebff;}#sk-container-id-1 div.sk-serial::before {content: \"\";position: absolute;border-left: 1px solid gray;box-sizing: border-box;top: 0;bottom: 0;left: 50%;z-index: 0;}#sk-container-id-1 div.sk-serial {display: flex;flex-direction: column;align-items: center;background-color: white;padding-right: 0.2em;padding-left: 0.2em;position: relative;}#sk-container-id-1 div.sk-item {position: relative;z-index: 1;}#sk-container-id-1 div.sk-parallel {display: flex;align-items: stretch;justify-content: center;background-color: white;position: relative;}#sk-container-id-1 div.sk-item::before, #sk-container-id-1 div.sk-parallel-item::before {content: \"\";position: absolute;border-left: 1px solid gray;box-sizing: border-box;top: 0;bottom: 0;left: 50%;z-index: -1;}#sk-container-id-1 div.sk-parallel-item {display: flex;flex-direction: column;z-index: 1;position: relative;background-color: white;}#sk-container-id-1 div.sk-parallel-item:first-child::after {align-self: flex-end;width: 50%;}#sk-container-id-1 div.sk-parallel-item:last-child::after {align-self: flex-start;width: 50%;}#sk-container-id-1 div.sk-parallel-item:only-child::after {width: 0;}#sk-container-id-1 div.sk-dashed-wrapped {border: 1px dashed gray;margin: 0 0.4em 0.5em 0.4em;box-sizing: border-box;padding-bottom: 0.4em;background-color: white;}#sk-container-id-1 div.sk-label label {font-family: monospace;font-weight: bold;display: inline-block;line-height: 1.2em;}#sk-container-id-1 div.sk-label-container {text-align: center;}#sk-container-id-1 div.sk-container {/* jupyter's `normalize.less` sets `[hidden] { display: none; }` but bootstrap.min.css set `[hidden] { display: none !important; }` so we also need the `!important` here to be able to override the default hidden behavior on the sphinx rendered scikit-learn.org. See: https://github.com/scikit-learn/scikit-learn/issues/21755 */display: inline-block !important;position: relative;}#sk-container-id-1 div.sk-text-repr-fallback {display: none;}</style><div id=\"sk-container-id-1\" class=\"sk-top-container\"><div class=\"sk-text-repr-fallback\"><pre>LinearRegression()</pre><b>In a Jupyter environment, please rerun this cell to show the HTML representation or trust the notebook. <br />On GitHub, the HTML representation is unable to render, please try loading this page with nbviewer.org.</b></div><div class=\"sk-container\" hidden><div class=\"sk-item\"><div class=\"sk-estimator sk-toggleable\"><input class=\"sk-toggleable__control sk-hidden--visually\" id=\"sk-estimator-id-1\" type=\"checkbox\" checked><label for=\"sk-estimator-id-1\" class=\"sk-toggleable__label sk-toggleable__label-arrow\">LinearRegression</label><div class=\"sk-toggleable__content\"><pre>LinearRegression()</pre></div></div></div></div></div>"
      ],
      "text/plain": [
       "LinearRegression()"
      ]
     },
     "execution_count": 10,
     "metadata": {},
     "output_type": "execute_result"
    }
   ],
   "source": [
    "regresion_lineal.fit(X.reshape(-1,1),Y)"
   ]
  },
  {
   "cell_type": "markdown",
   "id": "f03a54bd",
   "metadata": {},
   "source": [
    "<p> Ecuacion de la regrecion lineal <p>\n",
    "                   $$ y = wx + b $$"
   ]
  },
  {
   "cell_type": "code",
   "execution_count": 11,
   "id": "39bb6b7f",
   "metadata": {},
   "outputs": [
    {
     "name": "stdout",
     "output_type": "stream",
     "text": [
      "El valor de w = [2.] y el valor de b = 10.385\n"
     ]
    }
   ],
   "source": [
    "print('El valor de w = ' + str(regresion_lineal.coef_) + ' y el valor de b = ' + str(  round((regresion_lineal.intercept_),3)))"
   ]
  },
  {
   "cell_type": "code",
   "execution_count": 12,
   "id": "30e4322b",
   "metadata": {},
   "outputs": [
    {
     "name": "stdout",
     "output_type": "stream",
     "text": [
      "Error cuadratico medio (MSE) = 7.036639274571425e-30\n",
      "Raiz del errro cuadratico medio = 2.652666446157795e-15\n"
     ]
    }
   ],
   "source": [
    "# ERROR CUADRATICO MEDIO \n",
    "prediccion = regresion_lineal.predict(X.reshape(-1,1))\n",
    "\n",
    "mse = mean_squared_error(y_true = Y, y_pred = prediccion)\n",
    "\n",
    "rmse = np.sqrt(mse)\n",
    "print('Error cuadratico medio (MSE) = ' + str(mse))\n",
    "print('Raiz del errro cuadratico medio = ' + str(rmse))"
   ]
  },
  {
   "cell_type": "code",
   "execution_count": 13,
   "id": "8962a6f1",
   "metadata": {},
   "outputs": [
    {
     "data": {
      "image/png": "[encoded data removed]",
      "text/plain": [
       "<Figure size 864x360 with 1 Axes>"
      ]
     },
     "metadata": {
      "needs_background": "light"
     },
     "output_type": "display_data"
    }
   ],
   "source": [
    "#GRAFICO DE REGRECION SOLUCION\n",
    "fig, ax = plt.subplots(figsize=(12,5))\n",
    "plt.plot(X,Y, 'o',markersize = 4, label = 'Datos')\n",
    "plt.plot(X,Y, 'r-', label = 'Regresion lineal')\n",
    "plt.xlabel('Valores x', fontname = 'serif', color = 'darkblue',size  = 13)\n",
    "plt.ylabel('Valores y', fontname = 'serif', color = 'darkblue',size  = 13)\n",
    "plt.title('Grafico de regresion lineal y dispercion', fontname ='serif', color = 'darkgreen', size = 20, weight = 'bold')\n",
    "plt.legend(loc = 'lower right' )\n",
    "plt.grid()\n",
    "plt.show()"
   ]
  },
  {
   "cell_type": "markdown",
   "id": "718f01e9",
   "metadata": {},
   "source": [
    "## <font color='brown'>  Part 2: Regresión Polinomial <font>"
   ]
  },
  {
   "cell_type": "code",
   "execution_count": 14,
   "id": "83e5030b",
   "metadata": {},
   "outputs": [],
   "source": [
    "# IMPORTAR BASE DE DATOS Y UTILIZAR SOLO LAS PRIMERAS 200 FILAS\n",
    "df_1 = pd.read_csv('ts.csv')\n",
    "muestra = df_1.loc[:100,:]\n",
    "# o \n",
    "# data_muestra = data.sample(100)"
   ]
  },
  {
   "cell_type": "code",
   "execution_count": 15,
   "id": "6689c66c",
   "metadata": {},
   "outputs": [],
   "source": [
    "tiempo = muestra['tiempo']\n",
    "magnitud = muestra['magnitud']"
   ]
  },
  {
   "cell_type": "code",
   "execution_count": 16,
   "id": "c6756f06",
   "metadata": {},
   "outputs": [
    {
     "data": {
      "image/png": "[encoded data removed]",
      "text/plain": [
       "<Figure size 864x360 with 1 Axes>"
      ]
     },
     "metadata": {
      "needs_background": "light"
     },
     "output_type": "display_data"
    }
   ],
   "source": [
    "#GRAFICO DE CURVA DE LUZ\n",
    "fig, ax = plt.subplots(figsize=(12,5))\n",
    "plt.plot(tiempo,magnitud, 'o',markersize = 4, label = 'Datos')\n",
    "plt.xlabel('Tiempo (T)', fontname = 'serif', color = 'darkblue',size  = 13)\n",
    "plt.ylabel('Magnitud (M)', fontname = 'serif', color = 'darkblue',size  = 13)\n",
    "plt.title('Grafico de curva de luz', fontname ='serif', color = 'darkgreen', size = 20, weight = 'bold')\n",
    "plt.legend(loc = 'lower right' )\n",
    "plt.grid()"
   ]
  },
  {
   "cell_type": "code",
   "execution_count": 17,
   "id": "3f3b458a",
   "metadata": {},
   "outputs": [],
   "source": [
    "# FUNCION POLINOMIAL DE GRADO 4\n",
    "#polinomio de grado 4\n",
    "polinomio = PolynomialFeatures(degree = 4)\n",
    "#regrecion lineal \n",
    "mo = LinearRegression()\n",
    "x1 = tiempo.values.reshape(-1,1)\n",
    "d_polinomio = polinomio.fit_transform(x1)\n",
    "mo.fit(d_polinomio,magnitud)\n",
    "x_lin = np.linspace(min(tiempo),max(tiempo)).reshape(-1,1)\n",
    "data_ply_plot = polinomio.fit_transform(x_lin)\n",
    "y_pred = mo.predict(data_ply_plot)\n",
    "\n"
   ]
  },
  {
   "cell_type": "code",
   "execution_count": 18,
   "id": "ff0b58c5",
   "metadata": {},
   "outputs": [
    {
     "data": {
      "image/png": "[encoded data removed]",
      "text/plain": [
       "<Figure size 864x360 with 1 Axes>"
      ]
     },
     "metadata": {
      "needs_background": "light"
     },
     "output_type": "display_data"
    }
   ],
   "source": [
    "#GRAFICA DE FUNCION\n",
    "fig, bx = plt.subplots(figsize=(12,5))\n",
    "plt.plot(x_lin,y_pred, color = 'red', label = 'Datos')\n",
    "plt.plot(tiempo,magnitud,'1', color = 'brown')\n",
    "plt.xlabel('Tiempo (T)', fontname = 'serif', color = 'darkblue',size  = 13)\n",
    "plt.ylabel('Magnitud (T)', fontname = 'serif', color = 'darkblue',size  = 13)\n",
    "plt.title('Grafico polinomio grado 4', fontname ='serif', color = 'blue', size = 20, weight = 'bold')\n",
    "plt.grid()\n",
    "bx.get_xticklabels()\n",
    "plt.xlabel('Tiempo')\n",
    "plt.savefig(\"Grafico polinomio grado 4.jpg\")\n",
    "plt.show()"
   ]
  },
  {
   "cell_type": "code",
   "execution_count": 19,
   "id": "f5bca7de",
   "metadata": {
    "scrolled": true
   },
   "outputs": [
    {
     "name": "stdout",
     "output_type": "stream",
     "text": [
      "w = [ 0.          0.3270395   0.05583997 -0.06913154 -0.04928595], b = 0.14261927451531708\n"
     ]
    }
   ],
   "source": [
    "print('w = ' + str(mo.coef_) + ', b = ' + str(mo.intercept_))"
   ]
  },
  {
   "cell_type": "markdown",
   "id": "0fdc8180",
   "metadata": {},
   "source": [
    "### Funcion del grafico ajustado \n",
    "#### - Grado 4\n",
    "$f(X) = 0.1426 + X \\cdot 0.327 + X^2 \\cdot 0.0558 - X^3 \\cdot 0.0691- X^4 \\cdot 0.0492 $\n",
    "\n",
    "#### - Grado 5\n",
    "$f(X) -0.2303 + X \\cdot 0.61869247 + X^2 \\cdot 1.555 + X^3 \\cdot -0.6668 - X^4 \\cdot 0.8002 + X^5 \\cdot 0.3045 $\n",
    "\n",
    "#### - Grado 8\n",
    "$f(X) = -0.4472 + X \\cdot 0.7041 + X^2 \\cdot 3.2068 - X^3 \\cdot 1.0492- X^4 \\cdot 2.7276 + X^5 \\cdot 0.8787 + X^6 \\cdot 0.5479- X^7 \\cdot 0.2288 + X^8 \\cdot 0.0133$\n",
    "\n",
    "\n",
    "#### - Grado  9 \n",
    "\n",
    "$f(X) = -0.3273 + X \\cdot 1.11228507 + X^2 \\cdot 2.1785 X^3 \\cdot-2.52645242 - X^4 \\cdot 0.5790 + X^5 \\cdot 2.0801\n",
    " - X^6 \\cdot 1.09557778 - X^7 \\cdot 0.33358077 + X^8 \\cdot 0.4300 - X^9 \\cdot 0.0900 $\n",
    "\n",
    "#### - Grado  10\n",
    "\n",
    "$ f(X) = -0.1830 + X \\cdot 0.69257286 - X^2 \\cdot 0.1547 - X^3 \\cdot 0.240 +  X^4 \\cdot 4.67086659 - X^5 \\cdot2.0597922\n",
    " - X^6 \\cdot 4.6021 + X^7 \\cdot 2.6880 + X^8 \\cdot 0.8786 -X^9 \\cdot 0.8355 + X^{10} \\cdot 0.1415 $\n"
   ]
  },
  {
   "cell_type": "markdown",
   "id": "927f83ce",
   "metadata": {},
   "source": [
    "## Imagenes de las graficas ajustadas "
   ]
  },
  {
   "cell_type": "code",
   "execution_count": 20,
   "id": "08e63a79",
   "metadata": {},
   "outputs": [
    {
     "ename": "FileNotFoundError",
     "evalue": "[Errno 2] No such file or directory: 'Grafico polinomio grado 5.jpg'",
     "output_type": "error",
     "traceback": [
      "\u001b[1;31m---------------------------------------------------------------------------\u001b[0m",
      "\u001b[1;31mFileNotFoundError\u001b[0m                         Traceback (most recent call last)",
      "Input \u001b[1;32mIn [20]\u001b[0m, in \u001b[0;36m<cell line: 2>\u001b[1;34m()\u001b[0m\n\u001b[0;32m      1\u001b[0m im1 \u001b[38;5;241m=\u001b[39m Image\u001b[38;5;241m.\u001b[39mopen(\u001b[38;5;124m'\u001b[39m\u001b[38;5;124mGrafico polinomio grado 4.jpg\u001b[39m\u001b[38;5;124m'\u001b[39m)\n\u001b[1;32m----> 2\u001b[0m im2 \u001b[38;5;241m=\u001b[39m \u001b[43mImage\u001b[49m\u001b[38;5;241;43m.\u001b[39;49m\u001b[43mopen\u001b[49m\u001b[43m(\u001b[49m\u001b[38;5;124;43m'\u001b[39;49m\u001b[38;5;124;43mGrafico polinomio grado 5.jpg\u001b[39;49m\u001b[38;5;124;43m'\u001b[39;49m\u001b[43m)\u001b[49m\n\u001b[0;32m      3\u001b[0m im3 \u001b[38;5;241m=\u001b[39m Image\u001b[38;5;241m.\u001b[39mopen(\u001b[38;5;124m'\u001b[39m\u001b[38;5;124mGrafico polinomio grado 8.jpg\u001b[39m\u001b[38;5;124m'\u001b[39m)\n\u001b[0;32m      4\u001b[0m im4 \u001b[38;5;241m=\u001b[39m Image\u001b[38;5;241m.\u001b[39mopen(\u001b[38;5;124m'\u001b[39m\u001b[38;5;124mGrafico polinomio grado 9.jpg\u001b[39m\u001b[38;5;124m'\u001b[39m)\n",
      "File \u001b[1;32m~\\AppData\\Local\\Programs\\Python\\Python310\\lib\\site-packages\\PIL\\Image.py:3068\u001b[0m, in \u001b[0;36mopen\u001b[1;34m(fp, mode, formats)\u001b[0m\n\u001b[0;32m   3065\u001b[0m     filename \u001b[38;5;241m=\u001b[39m fp\n\u001b[0;32m   3067\u001b[0m \u001b[38;5;28;01mif\u001b[39;00m filename:\n\u001b[1;32m-> 3068\u001b[0m     fp \u001b[38;5;241m=\u001b[39m \u001b[43mbuiltins\u001b[49m\u001b[38;5;241;43m.\u001b[39;49m\u001b[43mopen\u001b[49m\u001b[43m(\u001b[49m\u001b[43mfilename\u001b[49m\u001b[43m,\u001b[49m\u001b[43m \u001b[49m\u001b[38;5;124;43m\"\u001b[39;49m\u001b[38;5;124;43mrb\u001b[39;49m\u001b[38;5;124;43m\"\u001b[39;49m\u001b[43m)\u001b[49m\n\u001b[0;32m   3069\u001b[0m     exclusive_fp \u001b[38;5;241m=\u001b[39m \u001b[38;5;28;01mTrue\u001b[39;00m\n\u001b[0;32m   3071\u001b[0m \u001b[38;5;28;01mtry\u001b[39;00m:\n",
      "\u001b[1;31mFileNotFoundError\u001b[0m: [Errno 2] No such file or directory: 'Grafico polinomio grado 5.jpg'"
     ]
    }
   ],
   "source": [
    "im1 = Image.open('Grafico polinomio grado 4.jpg')\n",
    "im2 = Image.open('Grafico polinomio grado 5.jpg')\n",
    "im3 = Image.open('Grafico polinomio grado 8.jpg')\n",
    "im4 = Image.open('Grafico polinomio grado 9.jpg')\n",
    "im5 = Image.open('Grafico polinomio grado 10.jpg')"
   ]
  },
  {
   "cell_type": "code",
   "execution_count": null,
   "id": "50cd14f7",
   "metadata": {},
   "outputs": [],
   "source": [
    "im3"
   ]
  },
  {
   "cell_type": "markdown",
   "id": "48a0f56d",
   "metadata": {},
   "source": [
    "<p> Sepuede observar que entre mas alto sea el grado del polinomio mejor se ajustará al grafico, por efectos de ejemplo solo se realizaron 5 funciones con los grados, 4,5,8,9 y 10 <p>"
   ]
  },
  {
   "cell_type": "markdown",
   "id": "a3d21c17",
   "metadata": {},
   "source": [
    "## <font color='purple'>  Part 3: Regresión con Penalización <font>"
   ]
  },
  {
   "cell_type": "code",
   "execution_count": null,
   "id": "a7fcd9f5",
   "metadata": {},
   "outputs": [],
   "source": [
    "data_3 = pd.read_csv('ts.csv').sample(200)\n",
    "x = data_3['magnitud'] \n",
    "y = data_3['tiempo']\n",
    "\n",
    "#asegurar que este en una sola dimension\n",
    "x = x.values.reshape(-1,1)"
   ]
  },
  {
   "cell_type": "code",
   "execution_count": null,
   "id": "2f32c82c",
   "metadata": {},
   "outputs": [],
   "source": [
    "polinomio = PolynomialFeatures(degree = 7)\n",
    "datapoly = polinomio.fit_transform(x)\n",
    "datapoly.shape\n",
    "alpha = [1,00.1,0000.1]\n",
    "modelo = Ridge(000.1)\n",
    "modelo.fit(datapoly,y)\n",
    "y_pred = modelo.predict(datapoly)"
   ]
  },
  {
   "cell_type": "code",
   "execution_count": null,
   "id": "ce60191e",
   "metadata": {},
   "outputs": [],
   "source": [
    "fig, cx = plt.subplots(figsize=(12,5))\n",
    "plt.plot(x,y_pred, 'o',color = 'red', label = 'Datos')\n",
    "plt.plot(x,y, '.',color = 'blue', label = 'Datos')\n",
    "plt.xlabel('Tiempo (T)', fontname = 'serif', color = 'darkgreen',size  = 13)\n",
    "plt.ylabel('Magnitud (T)', fontname = 'serif', color = 'darkgreen',size  = 13)\n",
    "plt.title('Diagrama Ridge de grado 7 y alfa = 000.1', fontname ='serif', color = 'blue', size = 20, weight = 'bold')\n",
    "plt.grid()\n",
    "plt.xlabel('Tiempo')\n",
    "plt.savefig(\"Diagrama Ridge de grado 7 y alfa = 000.1.jpg\")\n",
    "plt.show()"
   ]
  },
  {
   "cell_type": "code",
   "execution_count": null,
   "id": "7163581b",
   "metadata": {},
   "outputs": [],
   "source": [
    "print('w = ' + str(modelo.coef_) + ', b = ' + str(modelo.intercept_))"
   ]
  },
  {
   "cell_type": "markdown",
   "id": "620c3226",
   "metadata": {},
   "source": [
    "10 alpfa 0.1\n",
    "w = [ 0.00000000e+00  1.79611675e-01  2.15780571e-01  1.06056583e+00\n",
    "  2.86725560e-01 -2.41705101e+00  3.85379247e-01  1.03717770e+00\n",
    " -3.75914528e-01 -3.70066931e-02  2.38447578e-02 -1.72879445e-03], b = -0.19605816144164234\n",
    "\n",
    "7 alfa 000.1\n",
    "\n",
    "w = [ 0.          0.06143139  0.52995555 -0.13047099 -0.19409192  0.02143513\n",
    "  0.01004543 -0.00100414], b = -0.1982937749845075"
   ]
  },
  {
   "cell_type": "code",
   "execution_count": null,
   "id": "a769d83d",
   "metadata": {},
   "outputs": [],
   "source": [
    "polinomio = PolynomialFeatures(degree = 10)\n",
    "datapoly = polinomio.fit_transform(x)\n",
    "datapoly.shape\n",
    "alpha = [1,00.1,0000.1]\n",
    "modelo = Lasso(0.1)\n",
    "modelo.fit(datapoly,y)\n",
    "y_pred = modelo.predict(datapoly)"
   ]
  },
  {
   "cell_type": "code",
   "execution_count": null,
   "id": "9e3e25a8",
   "metadata": {},
   "outputs": [],
   "source": [
    "fig, cx = plt.subplots(figsize=(12,5))\n",
    "plt.plot(x,y_pred, 'o',color = 'red', label = 'Datos')\n",
    "plt.plot(x,y, '.',color = 'blue', label = 'Datos')\n",
    "plt.xlabel('Tiempo (T)', fontname = 'serif', color = 'darkgreen',size  = 13)\n",
    "plt.ylabel('Magnitud (T)', fontname = 'serif', color = 'darkgreen',size  = 13)\n",
    "plt.title('Diagrama Ridge de grado 10 y alfa = 0.1', fontname ='serif', color = 'blue', size = 20, weight = 'bold')\n",
    "plt.grid()\n",
    "plt.xlabel('Tiempo')\n",
    "plt.savefig(\"Diagrama Lasso de grado 10 y alfa = 0.1.jpg\")\n",
    "plt.show()"
   ]
  },
  {
   "cell_type": "code",
   "execution_count": null,
   "id": "5e7e9180",
   "metadata": {},
   "outputs": [],
   "source": [
    "print('w = ' + str(modelo.coef_) + ', b = ' + str(modelo.intercept_))"
   ]
  },
  {
   "cell_type": "code",
   "execution_count": null,
   "id": "b5254a0b",
   "metadata": {},
   "outputs": [],
   "source": [
    "7 y alfa 000.1\n",
    "w = [ 0.00000000e+00 -0.00000000e+00 -0.00000000e+00  6.55558955e-04\n",
    " -1.94726135e-03  2.26786063e-04 -8.02965790e-06  3.10977984e-07], b = -0.047771753945412346\n",
    "\n",
    "10 y alfa 0.1\n",
    "\n",
    "w = [ 0.00000000e+00 -0.00000000e+00 -0.00000000e+00  6.55558955e-04\n",
    " -1.94726135e-03  2.26786063e-04 -8.02965790e-06  3.10977984e-07], b = -0.047771753945412346"
   ]
  },
  {
   "cell_type": "markdown",
   "id": "60884563",
   "metadata": {},
   "source": [
    "## <font color='Grey'>  Part 4: Regresión con Penalización <font>"
   ]
  },
  {
   "cell_type": "code",
   "execution_count": null,
   "id": "8b002760",
   "metadata": {},
   "outputs": [],
   "source": [
    "data4 = pd.read_csv('ts2.csv')"
   ]
  },
  {
   "cell_type": "code",
   "execution_count": null,
   "id": "6d17d302",
   "metadata": {},
   "outputs": [],
   "source": [
    "clase  = pd.DataFrame(data4['Class'])\n",
    "base =   pd.DataFrame(data4.iloc[:,1:])"
   ]
  },
  {
   "cell_type": "code",
   "execution_count": null,
   "id": "3938fd40",
   "metadata": {},
   "outputs": [],
   "source": [
    "# ANALISIS DESCRIPTIVO GLOBAL DEL  DATAFRAME\n",
    "\n",
    "data4.describe()\n",
    "data4.columns"
   ]
  },
  {
   "cell_type": "code",
   "execution_count": null,
   "id": "40b7437f",
   "metadata": {},
   "outputs": [],
   "source": [
    "# ANALISIS DESCRIPTIVO \n",
    "\n",
    "data4['Class'].describe()\n",
    "datos = data4.groupby(by = 'Class').count()\n",
    "data4.groupby(by = 'Class').mean()\n",
    "clases_estrellas = data4['Class'].value_counts()  #contar cuantas estrellas hay en la columna \n",
    "# =========================================================\n",
    "cep = data4[data4['Class'] == 'cep']\n",
    "prom_cep = cep['Amplitude'].mean()\n",
    "max_cep = cep['PercentAmplitude'].max()"
   ]
  },
  {
   "cell_type": "code",
   "execution_count": null,
   "id": "91e10e37",
   "metadata": {},
   "outputs": [],
   "source": [
    "print('Promedio de altitud de la clase de estrella CEP es : ', round(prom_cep,4) )\n",
    "print('El maximo valor de la columna PercentAmplitude es : ',round(max_cep,4))"
   ]
  },
  {
   "cell_type": "code",
   "execution_count": null,
   "id": "cf3e13ea",
   "metadata": {},
   "outputs": [],
   "source": [
    "datos.groupby('Class').mean()[\"Mean\"].plot(kind='bar', title ='Grafico de promedio ')\n",
    "plt.show()"
   ]
  },
  {
   "cell_type": "code",
   "execution_count": null,
   "id": "5905c72d",
   "metadata": {},
   "outputs": [],
   "source": [
    "# CONTAR LOS ELEMENTOS DISTINTOS DE UNA COLUMNA\n",
    "Clase.value_counts()\n",
    "\n",
    "#df.education.value_counts()\n",
    "#where en python \n",
    "# for y numpy"
   ]
  },
  {
   "cell_type": "code",
   "execution_count": null,
   "id": "f214c142",
   "metadata": {},
   "outputs": [],
   "source": [
    "# REMPLAZAR LOS ESTRING DE LA COLUMNA CLASS POR NUMEROS \n",
    "data4['Class'].replace({'lpv': 1, 'rrlyr': 2,'ecl':3,'cep': 4,'NonVar':5 ,\n",
    "                        'dsct': 6, 't2cep':7, 'acep':8, 'dpv':9},  inplace = True)"
   ]
  },
  {
   "cell_type": "code",
   "execution_count": null,
   "id": "bea28903",
   "metadata": {},
   "outputs": [],
   "source": [
    "# SEPARACION DE BASE DE DATOS \n",
    "\n",
    "# Muestra las variables Independientes\n",
    "x1 = data4.drop(['Amplitude'],axis = 1)\n",
    "# Muestra de las variables dependientes \n",
    "y1 = data4.Amplitude\n",
    "\n",
    "#DIivision de 75% de los datos para entrenamiento y 25 % de datos para test\n",
    "X_train, X_test, y_train, y_test = train_test_split(x1, y1,random_state=0)"
   ]
  },
  {
   "cell_type": "code",
   "execution_count": null,
   "id": "efc3a90a",
   "metadata": {},
   "outputs": [],
   "source": [
    "#IMPORTACION DE LIBRERIAS\n",
    "from sklearn.tree import DecisionTreeRegressor\n",
    "from sklearn.model_selection import GridSearchCV\n",
    "from sklearn.model_selection import train_test_split\n",
    "from sklearn.ensemble import RandomForestClassifier"
   ]
  },
  {
   "cell_type": "code",
   "execution_count": null,
   "id": "3d18f07d",
   "metadata": {},
   "outputs": [],
   "source": [
    "# MODELO DE BOSQUE ALEATORIO \n",
    "\n",
    "modelo1 = RandomForestClassifier(n_estimators = 19,\n",
    "                               random_state = 2016,\n",
    "                               min_samples_leaf = 8)"
   ]
  },
  {
   "cell_type": "code",
   "execution_count": null,
   "id": "46fceb07",
   "metadata": {},
   "outputs": [],
   "source": [
    "modelo1.fit(X_train, y_train)"
   ]
  },
  {
   "cell_type": "code",
   "execution_count": null,
   "id": "04b86716",
   "metadata": {},
   "outputs": [],
   "source": [
    "# Accuracy promedio\n",
    "modelo1.score(X_test, y_test)"
   ]
  },
  {
   "cell_type": "code",
   "execution_count": null,
   "id": "c9a78b75",
   "metadata": {},
   "outputs": [],
   "source": [
    "#MAtriz de cunfucion\n",
    "\n",
    "from mlxtend.plotting import plot_confusion_matrix\n",
    "from sklearn.metrics import confusion_matrix\n",
    "\n",
    "# Predicción del modelo usando los datos de prueba\n",
    "y_pred = modelo1.predict(X_test)\n",
    "matriz = confusion_matrix(y_test,y_pred)\n",
    "\n",
    "plot_confusion_matrix(conf_mat=matriz, figsize=(6,6), show_normed=False)\n",
    "plt.tight_layout()"
   ]
  },
  {
   "cell_type": "markdown",
   "id": "bb94a535",
   "metadata": {},
   "source": [
    "## CLASIFICACION KNN"
   ]
  },
  {
   "cell_type": "code",
   "execution_count": 8,
   "id": "996c3f75",
   "metadata": {},
   "outputs": [],
   "source": [
    "from sklearn.datasets import load_iris\n",
    "from sklearn.model_selection import train_test_split\n",
    "from sklearn.neighbors import KNeighborsClassifier\n",
    "from sklearn.metrics import confusion_matrix, accuracy_score\n"
   ]
  },
  {
   "cell_type": "code",
   "execution_count": 9,
   "id": "92a114f8",
   "metadata": {},
   "outputs": [
    {
     "name": "stdout",
     "output_type": "stream",
     "text": [
      "['sepal length (cm)', 'sepal width (cm)', 'petal length (cm)', 'petal width (cm)']\n"
     ]
    }
   ],
   "source": [
    "iris = load_iris()\n",
    "print(iris.feature_names)"
   ]
  },
  {
   "cell_type": "code",
   "execution_count": 10,
   "id": "117bb0c4",
   "metadata": {},
   "outputs": [],
   "source": [
    "dataset = pd.read_csv('ts2.csv')"
   ]
  },
  {
   "cell_type": "code",
   "execution_count": 17,
   "id": "1dd12bf0",
   "metadata": {},
   "outputs": [],
   "source": [
    "X = dataset.iloc[:,1:4]\n",
    "y = dataset['Class']"
   ]
  },
  {
   "cell_type": "code",
   "execution_count": 19,
   "id": "8fdd611e",
   "metadata": {},
   "outputs": [],
   "source": [
    "X_train, X_test, y_train, Y_test = train_test_split(X,y,test_size = 0.4, random_state = 0) #semilla  = 0"
   ]
  },
  {
   "cell_type": "code",
   "execution_count": 20,
   "id": "8663fe7a",
   "metadata": {},
   "outputs": [],
   "source": [
    "# MODELO KNN\n",
    "clf = KNeighborsClassifier(n_neighbors = 3)"
   ]
  },
  {
   "cell_type": "code",
   "execution_count": 22,
   "id": "70205999",
   "metadata": {},
   "outputs": [
    {
     "data": {
      "text/html": [
       "<style>#sk-container-id-2 {color: black;background-color: white;}#sk-container-id-2 pre{padding: 0;}#sk-container-id-2 div.sk-toggleable {background-color: white;}#sk-container-id-2 label.sk-toggleable__label {cursor: pointer;display: block;width: 100%;margin-bottom: 0;padding: 0.3em;box-sizing: border-box;text-align: center;}#sk-container-id-2 label.sk-toggleable__label-arrow:before {content: \"▸\";float: left;margin-right: 0.25em;color: #696969;}#sk-container-id-2 label.sk-toggleable__label-arrow:hover:before {color: black;}#sk-container-id-2 div.sk-estimator:hover label.sk-toggleable__label-arrow:before {color: black;}#sk-container-id-2 div.sk-toggleable__content {max-height: 0;max-width: 0;overflow: hidden;text-align: left;background-color: #f0f8ff;}#sk-container-id-2 div.sk-toggleable__content pre {margin: 0.2em;color: black;border-radius: 0.25em;background-color: #f0f8ff;}#sk-container-id-2 input.sk-toggleable__control:checked~div.sk-toggleable__content {max-height: 200px;max-width: 100%;overflow: auto;}#sk-container-id-2 input.sk-toggleable__control:checked~label.sk-toggleable__label-arrow:before {content: \"▾\";}#sk-container-id-2 div.sk-estimator input.sk-toggleable__control:checked~label.sk-toggleable__label {background-color: #d4ebff;}#sk-container-id-2 div.sk-label input.sk-toggleable__control:checked~label.sk-toggleable__label {background-color: #d4ebff;}#sk-container-id-2 input.sk-hidden--visually {border: 0;clip: rect(1px 1px 1px 1px);clip: rect(1px, 1px, 1px, 1px);height: 1px;margin: -1px;overflow: hidden;padding: 0;position: absolute;width: 1px;}#sk-container-id-2 div.sk-estimator {font-family: monospace;background-color: #f0f8ff;border: 1px dotted black;border-radius: 0.25em;box-sizing: border-box;margin-bottom: 0.5em;}#sk-container-id-2 div.sk-estimator:hover {background-color: #d4ebff;}#sk-container-id-2 div.sk-parallel-item::after {content: \"\";width: 100%;border-bottom: 1px solid gray;flex-grow: 1;}#sk-container-id-2 div.sk-label:hover label.sk-toggleable__label {background-color: #d4ebff;}#sk-container-id-2 div.sk-serial::before {content: \"\";position: absolute;border-left: 1px solid gray;box-sizing: border-box;top: 0;bottom: 0;left: 50%;z-index: 0;}#sk-container-id-2 div.sk-serial {display: flex;flex-direction: column;align-items: center;background-color: white;padding-right: 0.2em;padding-left: 0.2em;position: relative;}#sk-container-id-2 div.sk-item {position: relative;z-index: 1;}#sk-container-id-2 div.sk-parallel {display: flex;align-items: stretch;justify-content: center;background-color: white;position: relative;}#sk-container-id-2 div.sk-item::before, #sk-container-id-2 div.sk-parallel-item::before {content: \"\";position: absolute;border-left: 1px solid gray;box-sizing: border-box;top: 0;bottom: 0;left: 50%;z-index: -1;}#sk-container-id-2 div.sk-parallel-item {display: flex;flex-direction: column;z-index: 1;position: relative;background-color: white;}#sk-container-id-2 div.sk-parallel-item:first-child::after {align-self: flex-end;width: 50%;}#sk-container-id-2 div.sk-parallel-item:last-child::after {align-self: flex-start;width: 50%;}#sk-container-id-2 div.sk-parallel-item:only-child::after {width: 0;}#sk-container-id-2 div.sk-dashed-wrapped {border: 1px dashed gray;margin: 0 0.4em 0.5em 0.4em;box-sizing: border-box;padding-bottom: 0.4em;background-color: white;}#sk-container-id-2 div.sk-label label {font-family: monospace;font-weight: bold;display: inline-block;line-height: 1.2em;}#sk-container-id-2 div.sk-label-container {text-align: center;}#sk-container-id-2 div.sk-container {/* jupyter's `normalize.less` sets `[hidden] { display: none; }` but bootstrap.min.css set `[hidden] { display: none !important; }` so we also need the `!important` here to be able to override the default hidden behavior on the sphinx rendered scikit-learn.org. See: https://github.com/scikit-learn/scikit-learn/issues/21755 */display: inline-block !important;position: relative;}#sk-container-id-2 div.sk-text-repr-fallback {display: none;}</style><div id=\"sk-container-id-2\" class=\"sk-top-container\"><div class=\"sk-text-repr-fallback\"><pre>KNeighborsClassifier(n_neighbors=3)</pre><b>In a Jupyter environment, please rerun this cell to show the HTML representation or trust the notebook. <br />On GitHub, the HTML representation is unable to render, please try loading this page with nbviewer.org.</b></div><div class=\"sk-container\" hidden><div class=\"sk-item\"><div class=\"sk-estimator sk-toggleable\"><input class=\"sk-toggleable__control sk-hidden--visually\" id=\"sk-estimator-id-2\" type=\"checkbox\" checked><label for=\"sk-estimator-id-2\" class=\"sk-toggleable__label sk-toggleable__label-arrow\">KNeighborsClassifier</label><div class=\"sk-toggleable__content\"><pre>KNeighborsClassifier(n_neighbors=3)</pre></div></div></div></div></div>"
      ],
      "text/plain": [
       "KNeighborsClassifier(n_neighbors=3)"
      ]
     },
     "execution_count": 22,
     "metadata": {},
     "output_type": "execute_result"
    }
   ],
   "source": [
    "# ENTRENAMIENTO\n",
    "clf.fit(X_train, y_train)"
   ]
  },
  {
   "cell_type": "code",
   "execution_count": 23,
   "id": "63caefe7",
   "metadata": {},
   "outputs": [
    {
     "data": {
      "text/plain": [
       "array(['lpv', 'lpv', 'lpv', ..., 'rrlyr', 'ecl', 'ecl'], dtype=object)"
      ]
     },
     "execution_count": 23,
     "metadata": {},
     "output_type": "execute_result"
    }
   ],
   "source": [
    "y_pred = clf.predict(X_test)\n",
    "y_pred"
   ]
  },
  {
   "cell_type": "code",
   "execution_count": 40,
   "id": "23cd5561",
   "metadata": {},
   "outputs": [],
   "source": [
    "def plt_cm(y_true, y_pred, figsize = (10,10)):\n",
    "    cm= confusion_matrix(y_true,y_pred, labels = np.unique(y_true))\n",
    "    cm_sum =  np.sum(cm, axis = 1, keepdims = True)\n",
    "    cm_perc = cm/cm_sum.astype(float) * 100\n",
    "    annot = np.empty_like(cm).astype(str)\n",
    "    nrows, ncols = cm.shape\n",
    "    for i in range(nrows):\n",
    "        for j in range(ncols):\n",
    "            c = cm[i,j]\n",
    "            p = cm_perc[i,j]\n",
    "            if i == j :\n",
    "                s = cm_sum[i]\n",
    "                annot[i,j] = '%.1f%%\\n%d/%d' %(p,c,s)\n",
    "            elif c == 0:\n",
    "                    annot[i,j] = '0.0%'\n",
    "            else:\n",
    "                    annot[i,j] = '%.1f%%\\n%d' % (p,c)\n",
    "    cm = pd.DataFrame(cm,index =np.unique(y_true), columns = np.unique(y_true))\n",
    "    cm.index.name =  'Valores Verdaderos'\n",
    "    cm.columns.name =  'Prediccion'\n",
    "    fig, ax = plt.subplots(figsize = figsize)\n",
    "    sns.heatmap(cm, cmap = 'YlGnBu', annot = annot, fmt = '', ax= ax)\n",
    "                    \n",
    "            "
   ]
  },
  {
   "cell_type": "code",
   "execution_count": null,
   "id": "0cab8188",
   "metadata": {},
   "outputs": [],
   "source": []
  },
  {
   "cell_type": "code",
   "execution_count": 41,
   "id": "66cb6e03",
   "metadata": {},
   "outputs": [
    {
     "data": {
      "image/png": "[encoded data removed]",
      "text/plain": [
       "<Figure size 720x720 with 2 Axes>"
      ]
     },
     "metadata": {
      "needs_background": "light"
     },
     "output_type": "display_data"
    }
   ],
   "source": [
    "plt_cm(Y_test,y_pred)"
   ]
  },
  {
   "cell_type": "code",
   "execution_count": null,
   "id": "8f18da3a",
   "metadata": {},
   "outputs": [],
   "source": []
  }
 ],
 "metadata": {
  "kernelspec": {
   "display_name": "Python 3 (ipykernel)",
   "language": "python",
   "name": "python3"
  },
  "language_info": {
   "codemirror_mode": {
    "name": "ipython",
    "version": 3
   },
   "file_extension": ".py",
   "mimetype": "text/x-python",
   "name": "python",
   "nbconvert_exporter": "python",
   "pygments_lexer": "ipython3",
   "version": "3.10.4"
  }
 },
 "nbformat": 4,
 "nbformat_minor": 5
}
